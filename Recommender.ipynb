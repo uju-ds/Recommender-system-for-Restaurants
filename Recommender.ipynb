{
 "cells": [
  {
   "cell_type": "markdown",
   "id": "7d549ab8-2f0d-41e7-a7e3-9985d7b4efad",
   "metadata": {},
   "source": [
    "## Recommenders"
   ]
  },
  {
   "cell_type": "markdown",
   "id": "acba1946-1eb3-4e88-8b41-94f9f039987a",
   "metadata": {},
   "source": [
    "## Content-based filtering"
   ]
  },
  {
   "cell_type": "code",
   "execution_count": 1,
   "id": "743885db-75dc-4f24-8267-1b2836e3e097",
   "metadata": {},
   "outputs": [
    {
     "data": {
      "text/html": [
       "<div>\n",
       "<style scoped>\n",
       "    .dataframe tbody tr th:only-of-type {\n",
       "        vertical-align: middle;\n",
       "    }\n",
       "\n",
       "    .dataframe tbody tr th {\n",
       "        vertical-align: top;\n",
       "    }\n",
       "\n",
       "    .dataframe thead th {\n",
       "        text-align: right;\n",
       "    }\n",
       "</style>\n",
       "<table border=\"1\" class=\"dataframe\">\n",
       "  <thead>\n",
       "    <tr style=\"text-align: right;\">\n",
       "      <th></th>\n",
       "      <th>fruit_100g</th>\n",
       "      <th>energy_kcal</th>\n",
       "      <th>water_g</th>\n",
       "      <th>protein_g</th>\n",
       "      <th>totalfat_g</th>\n",
       "      <th>fiber_g</th>\n",
       "      <th>sugars_g</th>\n",
       "      <th>vitaminc_mg</th>\n",
       "    </tr>\n",
       "  </thead>\n",
       "  <tbody>\n",
       "    <tr>\n",
       "      <th>0</th>\n",
       "      <td>Banana</td>\n",
       "      <td>89</td>\n",
       "      <td>74.9</td>\n",
       "      <td>1.09</td>\n",
       "      <td>0.33</td>\n",
       "      <td>2.6</td>\n",
       "      <td>12.20</td>\n",
       "      <td>8.7</td>\n",
       "    </tr>\n",
       "    <tr>\n",
       "      <th>1</th>\n",
       "      <td>Lemon</td>\n",
       "      <td>29</td>\n",
       "      <td>89.0</td>\n",
       "      <td>1.10</td>\n",
       "      <td>0.30</td>\n",
       "      <td>2.8</td>\n",
       "      <td>2.50</td>\n",
       "      <td>53.0</td>\n",
       "    </tr>\n",
       "    <tr>\n",
       "      <th>2</th>\n",
       "      <td>Lime</td>\n",
       "      <td>30</td>\n",
       "      <td>88.3</td>\n",
       "      <td>0.70</td>\n",
       "      <td>0.20</td>\n",
       "      <td>2.8</td>\n",
       "      <td>1.69</td>\n",
       "      <td>29.1</td>\n",
       "    </tr>\n",
       "    <tr>\n",
       "      <th>3</th>\n",
       "      <td>Mango</td>\n",
       "      <td>46</td>\n",
       "      <td>88.3</td>\n",
       "      <td>0.91</td>\n",
       "      <td>0.27</td>\n",
       "      <td>1.5</td>\n",
       "      <td>8.39</td>\n",
       "      <td>4.1</td>\n",
       "    </tr>\n",
       "    <tr>\n",
       "      <th>4</th>\n",
       "      <td>Peach</td>\n",
       "      <td>60</td>\n",
       "      <td>83.5</td>\n",
       "      <td>0.82</td>\n",
       "      <td>0.38</td>\n",
       "      <td>1.6</td>\n",
       "      <td>13.70</td>\n",
       "      <td>36.4</td>\n",
       "    </tr>\n",
       "  </tbody>\n",
       "</table>\n",
       "</div>"
      ],
      "text/plain": [
       "  fruit_100g  energy_kcal  water_g  protein_g  totalfat_g  fiber_g  sugars_g  \\\n",
       "0     Banana           89     74.9       1.09        0.33      2.6     12.20   \n",
       "1      Lemon           29     89.0       1.10        0.30      2.8      2.50   \n",
       "2       Lime           30     88.3       0.70        0.20      2.8      1.69   \n",
       "3      Mango           46     88.3       0.91        0.27      1.5      8.39   \n",
       "4      Peach           60     83.5       0.82        0.38      1.6     13.70   \n",
       "\n",
       "   vitaminc_mg  \n",
       "0          8.7  \n",
       "1         53.0  \n",
       "2         29.1  \n",
       "3          4.1  \n",
       "4         36.4  "
      ]
     },
     "execution_count": 1,
     "metadata": {},
     "output_type": "execute_result"
    }
   ],
   "source": [
    "import pandas as pd\n",
    "df = pd.read_csv(\"../Data/fruit_nutrition.csv\")\n",
    "df.head()\n"
   ]
  },
  {
   "cell_type": "code",
   "execution_count": 5,
   "id": "67528c9d-de31-4eb7-bf51-deaf794c86e0",
   "metadata": {},
   "outputs": [
    {
     "data": {
      "text/html": [
       "<div>\n",
       "<style scoped>\n",
       "    .dataframe tbody tr th:only-of-type {\n",
       "        vertical-align: middle;\n",
       "    }\n",
       "\n",
       "    .dataframe tbody tr th {\n",
       "        vertical-align: top;\n",
       "    }\n",
       "\n",
       "    .dataframe thead th {\n",
       "        text-align: right;\n",
       "    }\n",
       "</style>\n",
       "<table border=\"1\" class=\"dataframe\">\n",
       "  <thead>\n",
       "    <tr style=\"text-align: right;\">\n",
       "      <th></th>\n",
       "      <th>energy_kcal</th>\n",
       "      <th>water_g</th>\n",
       "      <th>protein_g</th>\n",
       "      <th>totalfat_g</th>\n",
       "      <th>fiber_g</th>\n",
       "      <th>sugars_g</th>\n",
       "      <th>vitaminc_mg</th>\n",
       "    </tr>\n",
       "  </thead>\n",
       "  <tbody>\n",
       "    <tr>\n",
       "      <th>Banana</th>\n",
       "      <td>89</td>\n",
       "      <td>74.9</td>\n",
       "      <td>1.09</td>\n",
       "      <td>0.33</td>\n",
       "      <td>2.6</td>\n",
       "      <td>12.20</td>\n",
       "      <td>8.7</td>\n",
       "    </tr>\n",
       "    <tr>\n",
       "      <th>Lemon</th>\n",
       "      <td>29</td>\n",
       "      <td>89.0</td>\n",
       "      <td>1.10</td>\n",
       "      <td>0.30</td>\n",
       "      <td>2.8</td>\n",
       "      <td>2.50</td>\n",
       "      <td>53.0</td>\n",
       "    </tr>\n",
       "    <tr>\n",
       "      <th>Lime</th>\n",
       "      <td>30</td>\n",
       "      <td>88.3</td>\n",
       "      <td>0.70</td>\n",
       "      <td>0.20</td>\n",
       "      <td>2.8</td>\n",
       "      <td>1.69</td>\n",
       "      <td>29.1</td>\n",
       "    </tr>\n",
       "    <tr>\n",
       "      <th>Mango</th>\n",
       "      <td>46</td>\n",
       "      <td>88.3</td>\n",
       "      <td>0.91</td>\n",
       "      <td>0.27</td>\n",
       "      <td>1.5</td>\n",
       "      <td>8.39</td>\n",
       "      <td>4.1</td>\n",
       "    </tr>\n",
       "    <tr>\n",
       "      <th>Peach</th>\n",
       "      <td>60</td>\n",
       "      <td>83.5</td>\n",
       "      <td>0.82</td>\n",
       "      <td>0.38</td>\n",
       "      <td>1.6</td>\n",
       "      <td>13.70</td>\n",
       "      <td>36.4</td>\n",
       "    </tr>\n",
       "    <tr>\n",
       "      <th>Pineapple</th>\n",
       "      <td>50</td>\n",
       "      <td>86.0</td>\n",
       "      <td>0.54</td>\n",
       "      <td>0.12</td>\n",
       "      <td>1.4</td>\n",
       "      <td>9.85</td>\n",
       "      <td>47.8</td>\n",
       "    </tr>\n",
       "  </tbody>\n",
       "</table>\n",
       "</div>"
      ],
      "text/plain": [
       "           energy_kcal  water_g  protein_g  totalfat_g  fiber_g  sugars_g  \\\n",
       "Banana              89     74.9       1.09        0.33      2.6     12.20   \n",
       "Lemon               29     89.0       1.10        0.30      2.8      2.50   \n",
       "Lime                30     88.3       0.70        0.20      2.8      1.69   \n",
       "Mango               46     88.3       0.91        0.27      1.5      8.39   \n",
       "Peach               60     83.5       0.82        0.38      1.6     13.70   \n",
       "Pineapple           50     86.0       0.54        0.12      1.4      9.85   \n",
       "\n",
       "           vitaminc_mg  \n",
       "Banana             8.7  \n",
       "Lemon             53.0  \n",
       "Lime              29.1  \n",
       "Mango              4.1  \n",
       "Peach             36.4  \n",
       "Pineapple         47.8  "
      ]
     },
     "execution_count": 5,
     "metadata": {},
     "output_type": "execute_result"
    }
   ],
   "source": [
    "fruit_df= df.set_index('fruit_100g')\n",
    "fruit_df.index.name=None\n",
    "fruit_df"
   ]
  },
  {
   "cell_type": "code",
   "execution_count": 6,
   "id": "27d4014f-124f-48ac-9751-8c9ce3d2815e",
   "metadata": {},
   "outputs": [
    {
     "data": {
      "text/html": [
       "<div>\n",
       "<style scoped>\n",
       "    .dataframe tbody tr th:only-of-type {\n",
       "        vertical-align: middle;\n",
       "    }\n",
       "\n",
       "    .dataframe tbody tr th {\n",
       "        vertical-align: top;\n",
       "    }\n",
       "\n",
       "    .dataframe thead th {\n",
       "        text-align: right;\n",
       "    }\n",
       "</style>\n",
       "<table border=\"1\" class=\"dataframe\">\n",
       "  <thead>\n",
       "    <tr style=\"text-align: right;\">\n",
       "      <th></th>\n",
       "      <th>sugars_g</th>\n",
       "      <th>vitaminc_mg</th>\n",
       "    </tr>\n",
       "  </thead>\n",
       "  <tbody>\n",
       "    <tr>\n",
       "      <th>Banana</th>\n",
       "      <td>12.20</td>\n",
       "      <td>8.7</td>\n",
       "    </tr>\n",
       "    <tr>\n",
       "      <th>Lemon</th>\n",
       "      <td>2.50</td>\n",
       "      <td>53.0</td>\n",
       "    </tr>\n",
       "    <tr>\n",
       "      <th>Lime</th>\n",
       "      <td>1.69</td>\n",
       "      <td>29.1</td>\n",
       "    </tr>\n",
       "    <tr>\n",
       "      <th>Mango</th>\n",
       "      <td>8.39</td>\n",
       "      <td>4.1</td>\n",
       "    </tr>\n",
       "    <tr>\n",
       "      <th>Peach</th>\n",
       "      <td>13.70</td>\n",
       "      <td>36.4</td>\n",
       "    </tr>\n",
       "    <tr>\n",
       "      <th>Pineapple</th>\n",
       "      <td>9.85</td>\n",
       "      <td>47.8</td>\n",
       "    </tr>\n",
       "  </tbody>\n",
       "</table>\n",
       "</div>"
      ],
      "text/plain": [
       "           sugars_g  vitaminc_mg\n",
       "Banana        12.20          8.7\n",
       "Lemon          2.50         53.0\n",
       "Lime           1.69         29.1\n",
       "Mango          8.39          4.1\n",
       "Peach         13.70         36.4\n",
       "Pineapple      9.85         47.8"
      ]
     },
     "execution_count": 6,
     "metadata": {},
     "output_type": "execute_result"
    }
   ],
   "source": [
    "df2=fruit_df.iloc[:,5:]\n",
    "df2"
   ]
  },
  {
   "cell_type": "code",
   "execution_count": 22,
   "id": "0da137d8-ee57-4ef8-ba79-d02c3687529e",
   "metadata": {},
   "outputs": [
    {
     "data": {
      "text/html": [
       "<div>\n",
       "<style scoped>\n",
       "    .dataframe tbody tr th:only-of-type {\n",
       "        vertical-align: middle;\n",
       "    }\n",
       "\n",
       "    .dataframe tbody tr th {\n",
       "        vertical-align: top;\n",
       "    }\n",
       "\n",
       "    .dataframe thead th {\n",
       "        text-align: right;\n",
       "    }\n",
       "</style>\n",
       "<table border=\"1\" class=\"dataframe\">\n",
       "  <thead>\n",
       "    <tr style=\"text-align: right;\">\n",
       "      <th></th>\n",
       "      <th>sugars_g</th>\n",
       "      <th>vitaminc_mg</th>\n",
       "    </tr>\n",
       "  </thead>\n",
       "  <tbody>\n",
       "    <tr>\n",
       "      <th>Banana</th>\n",
       "      <td>12.20</td>\n",
       "      <td>8.7</td>\n",
       "    </tr>\n",
       "    <tr>\n",
       "      <th>Pineapple</th>\n",
       "      <td>9.85</td>\n",
       "      <td>47.8</td>\n",
       "    </tr>\n",
       "  </tbody>\n",
       "</table>\n",
       "</div>"
      ],
      "text/plain": [
       "           sugars_g  vitaminc_mg\n",
       "Banana        12.20          8.7\n",
       "Pineapple      9.85         47.8"
      ]
     },
     "execution_count": 22,
     "metadata": {},
     "output_type": "execute_result"
    }
   ],
   "source": [
    "df2.loc[['Banana','Pineapple']]"
   ]
  },
  {
   "cell_type": "markdown",
   "id": "078b4c53-26db-43f7-8bbb-6462933db78c",
   "metadata": {},
   "source": [
    "#### cosine similarity with sugars_g and vitaminc_mg"
   ]
  },
  {
   "cell_type": "code",
   "execution_count": 9,
   "id": "a4fdf865-a9d1-47af-8c2a-50442d9e9781",
   "metadata": {},
   "outputs": [
    {
     "data": {
      "text/plain": [
       "array([[1.        , 0.61832414, 0.62683477, 0.9864306 , 0.83018982, 0.73298243],\n",
       "       [0.61832414, 1.        , 0.99994086, 0.48090193, 0.95146351, 0.98784307],\n",
       "       [0.62683477, 0.99994086, 1.        , 0.49040872, 0.95475426, 0.98947527],\n",
       "       [0.9864306 , 0.48090193, 0.49040872, 1.        , 0.72739811, 0.61135407],\n",
       "       [0.83018982, 0.95146351, 0.95475426, 0.72739811, 1.        , 0.98773952],\n",
       "       [0.73298243, 0.98784307, 0.98947527, 0.61135407, 0.98773952, 1.        ]])"
      ]
     },
     "execution_count": 9,
     "metadata": {},
     "output_type": "execute_result"
    }
   ],
   "source": [
    "from sklearn.metrics.pairwise import cosine_similarity\n",
    "import numpy as np\n",
    "np.set_printoptions(linewidth=np.inf) #to set the array in a line and prevent wrapping\n",
    "cs=cosine_similarity(df2)\n",
    "cs"
   ]
  },
  {
   "cell_type": "code",
   "execution_count": 11,
   "id": "85391b54-ad9e-4e41-b79c-59c9460356f1",
   "metadata": {},
   "outputs": [
    {
     "data": {
      "text/html": [
       "<div>\n",
       "<style scoped>\n",
       "    .dataframe tbody tr th:only-of-type {\n",
       "        vertical-align: middle;\n",
       "    }\n",
       "\n",
       "    .dataframe tbody tr th {\n",
       "        vertical-align: top;\n",
       "    }\n",
       "\n",
       "    .dataframe thead th {\n",
       "        text-align: right;\n",
       "    }\n",
       "</style>\n",
       "<table border=\"1\" class=\"dataframe\">\n",
       "  <thead>\n",
       "    <tr style=\"text-align: right;\">\n",
       "      <th></th>\n",
       "      <th>Banana</th>\n",
       "      <th>Lemon</th>\n",
       "      <th>Lime</th>\n",
       "      <th>Mango</th>\n",
       "      <th>Peach</th>\n",
       "      <th>Pineapple</th>\n",
       "    </tr>\n",
       "  </thead>\n",
       "  <tbody>\n",
       "    <tr>\n",
       "      <th>Banana</th>\n",
       "      <td>1.000000</td>\n",
       "      <td>0.618324</td>\n",
       "      <td>0.626835</td>\n",
       "      <td>0.986431</td>\n",
       "      <td>0.830190</td>\n",
       "      <td>0.732982</td>\n",
       "    </tr>\n",
       "    <tr>\n",
       "      <th>Lemon</th>\n",
       "      <td>0.618324</td>\n",
       "      <td>1.000000</td>\n",
       "      <td>0.999941</td>\n",
       "      <td>0.480902</td>\n",
       "      <td>0.951464</td>\n",
       "      <td>0.987843</td>\n",
       "    </tr>\n",
       "    <tr>\n",
       "      <th>Lime</th>\n",
       "      <td>0.626835</td>\n",
       "      <td>0.999941</td>\n",
       "      <td>1.000000</td>\n",
       "      <td>0.490409</td>\n",
       "      <td>0.954754</td>\n",
       "      <td>0.989475</td>\n",
       "    </tr>\n",
       "    <tr>\n",
       "      <th>Mango</th>\n",
       "      <td>0.986431</td>\n",
       "      <td>0.480902</td>\n",
       "      <td>0.490409</td>\n",
       "      <td>1.000000</td>\n",
       "      <td>0.727398</td>\n",
       "      <td>0.611354</td>\n",
       "    </tr>\n",
       "    <tr>\n",
       "      <th>Peach</th>\n",
       "      <td>0.830190</td>\n",
       "      <td>0.951464</td>\n",
       "      <td>0.954754</td>\n",
       "      <td>0.727398</td>\n",
       "      <td>1.000000</td>\n",
       "      <td>0.987740</td>\n",
       "    </tr>\n",
       "    <tr>\n",
       "      <th>Pineapple</th>\n",
       "      <td>0.732982</td>\n",
       "      <td>0.987843</td>\n",
       "      <td>0.989475</td>\n",
       "      <td>0.611354</td>\n",
       "      <td>0.987740</td>\n",
       "      <td>1.000000</td>\n",
       "    </tr>\n",
       "  </tbody>\n",
       "</table>\n",
       "</div>"
      ],
      "text/plain": [
       "             Banana     Lemon      Lime     Mango     Peach  Pineapple\n",
       "Banana     1.000000  0.618324  0.626835  0.986431  0.830190   0.732982\n",
       "Lemon      0.618324  1.000000  0.999941  0.480902  0.951464   0.987843\n",
       "Lime       0.626835  0.999941  1.000000  0.490409  0.954754   0.989475\n",
       "Mango      0.986431  0.480902  0.490409  1.000000  0.727398   0.611354\n",
       "Peach      0.830190  0.951464  0.954754  0.727398  1.000000   0.987740\n",
       "Pineapple  0.732982  0.987843  0.989475  0.611354  0.987740   1.000000"
      ]
     },
     "execution_count": 11,
     "metadata": {},
     "output_type": "execute_result"
    }
   ],
   "source": [
    "cs_df=pd.DataFrame(cs,index=df2.index, columns=df2.index)\n",
    "cs_df"
   ]
  },
  {
   "cell_type": "code",
   "execution_count": 15,
   "id": "77e64440-4d99-44db-9811-96c398c82c98",
   "metadata": {},
   "outputs": [
    {
     "data": {
      "text/html": [
       "<div>\n",
       "<style scoped>\n",
       "    .dataframe tbody tr th:only-of-type {\n",
       "        vertical-align: middle;\n",
       "    }\n",
       "\n",
       "    .dataframe tbody tr th {\n",
       "        vertical-align: top;\n",
       "    }\n",
       "\n",
       "    .dataframe thead th {\n",
       "        text-align: right;\n",
       "    }\n",
       "</style>\n",
       "<table border=\"1\" class=\"dataframe\">\n",
       "  <thead>\n",
       "    <tr style=\"text-align: right;\">\n",
       "      <th></th>\n",
       "      <th>Mango</th>\n",
       "    </tr>\n",
       "  </thead>\n",
       "  <tbody>\n",
       "    <tr>\n",
       "      <th>Mango</th>\n",
       "      <td>1.000000</td>\n",
       "    </tr>\n",
       "    <tr>\n",
       "      <th>Banana</th>\n",
       "      <td>0.986431</td>\n",
       "    </tr>\n",
       "    <tr>\n",
       "      <th>Peach</th>\n",
       "      <td>0.727398</td>\n",
       "    </tr>\n",
       "    <tr>\n",
       "      <th>Pineapple</th>\n",
       "      <td>0.611354</td>\n",
       "    </tr>\n",
       "    <tr>\n",
       "      <th>Lime</th>\n",
       "      <td>0.490409</td>\n",
       "    </tr>\n",
       "    <tr>\n",
       "      <th>Lemon</th>\n",
       "      <td>0.480902</td>\n",
       "    </tr>\n",
       "  </tbody>\n",
       "</table>\n",
       "</div>"
      ],
      "text/plain": [
       "              Mango\n",
       "Mango      1.000000\n",
       "Banana     0.986431\n",
       "Peach      0.727398\n",
       "Pineapple  0.611354\n",
       "Lime       0.490409\n",
       "Lemon      0.480902"
      ]
     },
     "execution_count": 15,
     "metadata": {},
     "output_type": "execute_result"
    }
   ],
   "source": [
    "cs_df[['Mango']].sort_values(by='Mango',ascending=False)"
   ]
  },
  {
   "cell_type": "markdown",
   "id": "eef2f175-d6eb-48de-b7d1-1c7363eaee45",
   "metadata": {},
   "source": [
    "#### Cosine similary with all the data"
   ]
  },
  {
   "cell_type": "code",
   "execution_count": 12,
   "id": "7e0d4fdd-6cd8-44d2-bb07-0e5b22866ca5",
   "metadata": {},
   "outputs": [
    {
     "data": {
      "text/plain": [
       "array([[1.        , 0.77186848, 0.83412488, 0.92474189, 0.93676783, 0.87931265],\n",
       "       [0.77186848, 1.        , 0.97739451, 0.87650678, 0.94133956, 0.9780653 ],\n",
       "       [0.83412488, 0.97739451, 1.        , 0.95282112, 0.95471941, 0.96986632],\n",
       "       [0.92474189, 0.87650678, 0.95282112, 1.        , 0.94580335, 0.91804609],\n",
       "       [0.93676783, 0.94133956, 0.95471941, 0.94580335, 1.        , 0.98972148],\n",
       "       [0.87931265, 0.9780653 , 0.96986632, 0.91804609, 0.98972148, 1.        ]])"
      ]
     },
     "execution_count": 12,
     "metadata": {},
     "output_type": "execute_result"
    }
   ],
   "source": [
    "cs2=cosine_similarity(fruit_df)\n",
    "cs2"
   ]
  },
  {
   "cell_type": "code",
   "execution_count": 13,
   "id": "05e345dc-20df-415c-a8b7-c1141620496a",
   "metadata": {},
   "outputs": [
    {
     "data": {
      "text/html": [
       "<div>\n",
       "<style scoped>\n",
       "    .dataframe tbody tr th:only-of-type {\n",
       "        vertical-align: middle;\n",
       "    }\n",
       "\n",
       "    .dataframe tbody tr th {\n",
       "        vertical-align: top;\n",
       "    }\n",
       "\n",
       "    .dataframe thead th {\n",
       "        text-align: right;\n",
       "    }\n",
       "</style>\n",
       "<table border=\"1\" class=\"dataframe\">\n",
       "  <thead>\n",
       "    <tr style=\"text-align: right;\">\n",
       "      <th></th>\n",
       "      <th>Banana</th>\n",
       "      <th>Lemon</th>\n",
       "      <th>Lime</th>\n",
       "      <th>Mango</th>\n",
       "      <th>Peach</th>\n",
       "      <th>Pineapple</th>\n",
       "    </tr>\n",
       "  </thead>\n",
       "  <tbody>\n",
       "    <tr>\n",
       "      <th>Banana</th>\n",
       "      <td>1.000000</td>\n",
       "      <td>0.771868</td>\n",
       "      <td>0.834125</td>\n",
       "      <td>0.924742</td>\n",
       "      <td>0.936768</td>\n",
       "      <td>0.879313</td>\n",
       "    </tr>\n",
       "    <tr>\n",
       "      <th>Lemon</th>\n",
       "      <td>0.771868</td>\n",
       "      <td>1.000000</td>\n",
       "      <td>0.977395</td>\n",
       "      <td>0.876507</td>\n",
       "      <td>0.941340</td>\n",
       "      <td>0.978065</td>\n",
       "    </tr>\n",
       "    <tr>\n",
       "      <th>Lime</th>\n",
       "      <td>0.834125</td>\n",
       "      <td>0.977395</td>\n",
       "      <td>1.000000</td>\n",
       "      <td>0.952821</td>\n",
       "      <td>0.954719</td>\n",
       "      <td>0.969866</td>\n",
       "    </tr>\n",
       "    <tr>\n",
       "      <th>Mango</th>\n",
       "      <td>0.924742</td>\n",
       "      <td>0.876507</td>\n",
       "      <td>0.952821</td>\n",
       "      <td>1.000000</td>\n",
       "      <td>0.945803</td>\n",
       "      <td>0.918046</td>\n",
       "    </tr>\n",
       "    <tr>\n",
       "      <th>Peach</th>\n",
       "      <td>0.936768</td>\n",
       "      <td>0.941340</td>\n",
       "      <td>0.954719</td>\n",
       "      <td>0.945803</td>\n",
       "      <td>1.000000</td>\n",
       "      <td>0.989721</td>\n",
       "    </tr>\n",
       "    <tr>\n",
       "      <th>Pineapple</th>\n",
       "      <td>0.879313</td>\n",
       "      <td>0.978065</td>\n",
       "      <td>0.969866</td>\n",
       "      <td>0.918046</td>\n",
       "      <td>0.989721</td>\n",
       "      <td>1.000000</td>\n",
       "    </tr>\n",
       "  </tbody>\n",
       "</table>\n",
       "</div>"
      ],
      "text/plain": [
       "             Banana     Lemon      Lime     Mango     Peach  Pineapple\n",
       "Banana     1.000000  0.771868  0.834125  0.924742  0.936768   0.879313\n",
       "Lemon      0.771868  1.000000  0.977395  0.876507  0.941340   0.978065\n",
       "Lime       0.834125  0.977395  1.000000  0.952821  0.954719   0.969866\n",
       "Mango      0.924742  0.876507  0.952821  1.000000  0.945803   0.918046\n",
       "Peach      0.936768  0.941340  0.954719  0.945803  1.000000   0.989721\n",
       "Pineapple  0.879313  0.978065  0.969866  0.918046  0.989721   1.000000"
      ]
     },
     "execution_count": 13,
     "metadata": {},
     "output_type": "execute_result"
    }
   ],
   "source": [
    "cs_df2=pd.DataFrame(cs2,index=fruit_df.index, columns=fruit_df.index)\n",
    "cs_df2"
   ]
  },
  {
   "cell_type": "code",
   "execution_count": 16,
   "id": "807aa473-75ac-4a2e-9053-270f8f447dee",
   "metadata": {},
   "outputs": [
    {
     "data": {
      "text/html": [
       "<div>\n",
       "<style scoped>\n",
       "    .dataframe tbody tr th:only-of-type {\n",
       "        vertical-align: middle;\n",
       "    }\n",
       "\n",
       "    .dataframe tbody tr th {\n",
       "        vertical-align: top;\n",
       "    }\n",
       "\n",
       "    .dataframe thead th {\n",
       "        text-align: right;\n",
       "    }\n",
       "</style>\n",
       "<table border=\"1\" class=\"dataframe\">\n",
       "  <thead>\n",
       "    <tr style=\"text-align: right;\">\n",
       "      <th></th>\n",
       "      <th>Mango</th>\n",
       "    </tr>\n",
       "  </thead>\n",
       "  <tbody>\n",
       "    <tr>\n",
       "      <th>Mango</th>\n",
       "      <td>1.000000</td>\n",
       "    </tr>\n",
       "    <tr>\n",
       "      <th>Lime</th>\n",
       "      <td>0.952821</td>\n",
       "    </tr>\n",
       "    <tr>\n",
       "      <th>Peach</th>\n",
       "      <td>0.945803</td>\n",
       "    </tr>\n",
       "    <tr>\n",
       "      <th>Banana</th>\n",
       "      <td>0.924742</td>\n",
       "    </tr>\n",
       "    <tr>\n",
       "      <th>Pineapple</th>\n",
       "      <td>0.918046</td>\n",
       "    </tr>\n",
       "    <tr>\n",
       "      <th>Lemon</th>\n",
       "      <td>0.876507</td>\n",
       "    </tr>\n",
       "  </tbody>\n",
       "</table>\n",
       "</div>"
      ],
      "text/plain": [
       "              Mango\n",
       "Mango      1.000000\n",
       "Lime       0.952821\n",
       "Peach      0.945803\n",
       "Banana     0.924742\n",
       "Pineapple  0.918046\n",
       "Lemon      0.876507"
      ]
     },
     "execution_count": 16,
     "metadata": {},
     "output_type": "execute_result"
    }
   ],
   "source": [
    "cs_df2[['Mango']].sort_values(by='Mango',ascending=False)"
   ]
  },
  {
   "cell_type": "code",
   "execution_count": 18,
   "id": "db5c72e2-f52a-4e49-87f3-a1e3f6a10b7a",
   "metadata": {},
   "outputs": [],
   "source": [
    "# put the content based filtering in a function\n",
    "\n",
    "def fruit_content_recommendation(fruit_name,cos_sim_model):\n",
    "    \n",
    "    return cos_sim_model[[fruit_name]].sort_values(by=fruit_name,ascending=False)"
   ]
  },
  {
   "cell_type": "code",
   "execution_count": 20,
   "id": "fdf282ec-70f9-4e47-9acf-10a7d019cdf6",
   "metadata": {},
   "outputs": [
    {
     "data": {
      "text/html": [
       "<div>\n",
       "<style scoped>\n",
       "    .dataframe tbody tr th:only-of-type {\n",
       "        vertical-align: middle;\n",
       "    }\n",
       "\n",
       "    .dataframe tbody tr th {\n",
       "        vertical-align: top;\n",
       "    }\n",
       "\n",
       "    .dataframe thead th {\n",
       "        text-align: right;\n",
       "    }\n",
       "</style>\n",
       "<table border=\"1\" class=\"dataframe\">\n",
       "  <thead>\n",
       "    <tr style=\"text-align: right;\">\n",
       "      <th></th>\n",
       "      <th>Mango</th>\n",
       "    </tr>\n",
       "  </thead>\n",
       "  <tbody>\n",
       "    <tr>\n",
       "      <th>Mango</th>\n",
       "      <td>1.000000</td>\n",
       "    </tr>\n",
       "    <tr>\n",
       "      <th>Lime</th>\n",
       "      <td>0.952821</td>\n",
       "    </tr>\n",
       "    <tr>\n",
       "      <th>Peach</th>\n",
       "      <td>0.945803</td>\n",
       "    </tr>\n",
       "    <tr>\n",
       "      <th>Banana</th>\n",
       "      <td>0.924742</td>\n",
       "    </tr>\n",
       "    <tr>\n",
       "      <th>Pineapple</th>\n",
       "      <td>0.918046</td>\n",
       "    </tr>\n",
       "    <tr>\n",
       "      <th>Lemon</th>\n",
       "      <td>0.876507</td>\n",
       "    </tr>\n",
       "  </tbody>\n",
       "</table>\n",
       "</div>"
      ],
      "text/plain": [
       "              Mango\n",
       "Mango      1.000000\n",
       "Lime       0.952821\n",
       "Peach      0.945803\n",
       "Banana     0.924742\n",
       "Pineapple  0.918046\n",
       "Lemon      0.876507"
      ]
     },
     "execution_count": 20,
     "metadata": {},
     "output_type": "execute_result"
    }
   ],
   "source": [
    "fruit_content_recommendation('Mango',cs_df2)"
   ]
  },
  {
   "cell_type": "markdown",
   "id": "5f8ceca4-fe82-4b5c-b1dc-1e42441129e0",
   "metadata": {},
   "source": [
    "### Collaborative filtering"
   ]
  },
  {
   "cell_type": "code",
   "execution_count": 23,
   "id": "e61f2c57-ee51-4d62-9f07-9b1758034afa",
   "metadata": {},
   "outputs": [
    {
     "data": {
      "text/html": [
       "<div>\n",
       "<style scoped>\n",
       "    .dataframe tbody tr th:only-of-type {\n",
       "        vertical-align: middle;\n",
       "    }\n",
       "\n",
       "    .dataframe tbody tr th {\n",
       "        vertical-align: top;\n",
       "    }\n",
       "\n",
       "    .dataframe thead th {\n",
       "        text-align: right;\n",
       "    }\n",
       "</style>\n",
       "<table border=\"1\" class=\"dataframe\">\n",
       "  <thead>\n",
       "    <tr style=\"text-align: right;\">\n",
       "      <th></th>\n",
       "      <th>User</th>\n",
       "      <th>Fruit</th>\n",
       "      <th>Rating</th>\n",
       "    </tr>\n",
       "  </thead>\n",
       "  <tbody>\n",
       "    <tr>\n",
       "      <th>0</th>\n",
       "      <td>user0</td>\n",
       "      <td>Lemon</td>\n",
       "      <td>4.3</td>\n",
       "    </tr>\n",
       "    <tr>\n",
       "      <th>1</th>\n",
       "      <td>user1</td>\n",
       "      <td>Lemon</td>\n",
       "      <td>4.6</td>\n",
       "    </tr>\n",
       "    <tr>\n",
       "      <th>2</th>\n",
       "      <td>user2</td>\n",
       "      <td>Lemon</td>\n",
       "      <td>4.2</td>\n",
       "    </tr>\n",
       "    <tr>\n",
       "      <th>3</th>\n",
       "      <td>user3</td>\n",
       "      <td>Lemon</td>\n",
       "      <td>4.4</td>\n",
       "    </tr>\n",
       "    <tr>\n",
       "      <th>4</th>\n",
       "      <td>user4</td>\n",
       "      <td>Lemon</td>\n",
       "      <td>4.1</td>\n",
       "    </tr>\n",
       "  </tbody>\n",
       "</table>\n",
       "</div>"
      ],
      "text/plain": [
       "    User  Fruit  Rating\n",
       "0  user0  Lemon     4.3\n",
       "1  user1  Lemon     4.6\n",
       "2  user2  Lemon     4.2\n",
       "3  user3  Lemon     4.4\n",
       "4  user4  Lemon     4.1"
      ]
     },
     "execution_count": 23,
     "metadata": {},
     "output_type": "execute_result"
    }
   ],
   "source": [
    "import pandas as pd\n",
    "fruit_rating= pd.read_csv(\"../Data/fruit_ratings.csv\")\n",
    "fruit_rating.head()"
   ]
  },
  {
   "cell_type": "code",
   "execution_count": 26,
   "id": "8367a399-f2ca-49ec-ad08-c95cc3755900",
   "metadata": {},
   "outputs": [
    {
     "data": {
      "text/html": [
       "<div>\n",
       "<style scoped>\n",
       "    .dataframe tbody tr th:only-of-type {\n",
       "        vertical-align: middle;\n",
       "    }\n",
       "\n",
       "    .dataframe tbody tr th {\n",
       "        vertical-align: top;\n",
       "    }\n",
       "\n",
       "    .dataframe thead th {\n",
       "        text-align: right;\n",
       "    }\n",
       "</style>\n",
       "<table border=\"1\" class=\"dataframe\">\n",
       "  <thead>\n",
       "    <tr style=\"text-align: right;\">\n",
       "      <th>Fruit</th>\n",
       "      <th>Banana</th>\n",
       "      <th>Lemon</th>\n",
       "      <th>Lime</th>\n",
       "      <th>Mango</th>\n",
       "      <th>Peach</th>\n",
       "      <th>Pineapple</th>\n",
       "    </tr>\n",
       "    <tr>\n",
       "      <th>User</th>\n",
       "      <th></th>\n",
       "      <th></th>\n",
       "      <th></th>\n",
       "      <th></th>\n",
       "      <th></th>\n",
       "      <th></th>\n",
       "    </tr>\n",
       "  </thead>\n",
       "  <tbody>\n",
       "    <tr>\n",
       "      <th>user0</th>\n",
       "      <td>1.1</td>\n",
       "      <td>4.3</td>\n",
       "      <td>4.7</td>\n",
       "      <td>1.0</td>\n",
       "      <td>2.4</td>\n",
       "      <td>4.9</td>\n",
       "    </tr>\n",
       "    <tr>\n",
       "      <th>user1</th>\n",
       "      <td>1.2</td>\n",
       "      <td>4.6</td>\n",
       "      <td>4.5</td>\n",
       "      <td>1.3</td>\n",
       "      <td>2.1</td>\n",
       "      <td>4.8</td>\n",
       "    </tr>\n",
       "    <tr>\n",
       "      <th>user10</th>\n",
       "      <td>4.8</td>\n",
       "      <td>3.7</td>\n",
       "      <td>4.1</td>\n",
       "      <td>2.2</td>\n",
       "      <td>3.3</td>\n",
       "      <td>2.4</td>\n",
       "    </tr>\n",
       "    <tr>\n",
       "      <th>user11</th>\n",
       "      <td>2.5</td>\n",
       "      <td>2.9</td>\n",
       "      <td>3.7</td>\n",
       "      <td>4.1</td>\n",
       "      <td>1.8</td>\n",
       "      <td>4.1</td>\n",
       "    </tr>\n",
       "    <tr>\n",
       "      <th>user12</th>\n",
       "      <td>4.2</td>\n",
       "      <td>4.1</td>\n",
       "      <td>2.3</td>\n",
       "      <td>3.2</td>\n",
       "      <td>5.0</td>\n",
       "      <td>1.7</td>\n",
       "    </tr>\n",
       "  </tbody>\n",
       "</table>\n",
       "</div>"
      ],
      "text/plain": [
       "Fruit   Banana  Lemon  Lime  Mango  Peach  Pineapple\n",
       "User                                                \n",
       "user0      1.1    4.3   4.7    1.0    2.4        4.9\n",
       "user1      1.2    4.6   4.5    1.3    2.1        4.8\n",
       "user10     4.8    3.7   4.1    2.2    3.3        2.4\n",
       "user11     2.5    2.9   3.7    4.1    1.8        4.1\n",
       "user12     4.2    4.1   2.3    3.2    5.0        1.7"
      ]
     },
     "execution_count": 26,
     "metadata": {},
     "output_type": "execute_result"
    }
   ],
   "source": [
    "fruit_rating_pivot =fruit_rating.pivot(index='User',columns='Fruit', values='Rating')\n",
    "fruit_rating_pivot.head()\n",
    "     pd.merge(                "
   ]
  },
  {
   "cell_type": "code",
   "execution_count": 72,
   "id": "307088d3-dea5-478e-8c6f-1b336cae8657",
   "metadata": {},
   "outputs": [
    {
     "data": {
      "text/html": [
       "<div>\n",
       "<style scoped>\n",
       "    .dataframe tbody tr th:only-of-type {\n",
       "        vertical-align: middle;\n",
       "    }\n",
       "\n",
       "    .dataframe tbody tr th {\n",
       "        vertical-align: top;\n",
       "    }\n",
       "\n",
       "    .dataframe thead th {\n",
       "        text-align: right;\n",
       "    }\n",
       "</style>\n",
       "<table border=\"1\" class=\"dataframe\">\n",
       "  <thead>\n",
       "    <tr style=\"text-align: right;\">\n",
       "      <th>Fruit</th>\n",
       "      <th>Banana</th>\n",
       "      <th>Lemon</th>\n",
       "      <th>Lime</th>\n",
       "      <th>Mango</th>\n",
       "      <th>Peach</th>\n",
       "      <th>Pineapple</th>\n",
       "    </tr>\n",
       "    <tr>\n",
       "      <th>User</th>\n",
       "      <th></th>\n",
       "      <th></th>\n",
       "      <th></th>\n",
       "      <th></th>\n",
       "      <th></th>\n",
       "      <th></th>\n",
       "    </tr>\n",
       "  </thead>\n",
       "  <tbody>\n",
       "    <tr>\n",
       "      <th>user0</th>\n",
       "      <td>1.1</td>\n",
       "      <td>4.3</td>\n",
       "      <td>4.7</td>\n",
       "      <td>1.0</td>\n",
       "      <td>2.4</td>\n",
       "      <td>4.9</td>\n",
       "    </tr>\n",
       "    <tr>\n",
       "      <th>user1</th>\n",
       "      <td>1.2</td>\n",
       "      <td>4.6</td>\n",
       "      <td>4.5</td>\n",
       "      <td>1.3</td>\n",
       "      <td>2.1</td>\n",
       "      <td>4.8</td>\n",
       "    </tr>\n",
       "    <tr>\n",
       "      <th>user10</th>\n",
       "      <td>4.8</td>\n",
       "      <td>3.7</td>\n",
       "      <td>4.1</td>\n",
       "      <td>2.2</td>\n",
       "      <td>3.3</td>\n",
       "      <td>2.4</td>\n",
       "    </tr>\n",
       "    <tr>\n",
       "      <th>user11</th>\n",
       "      <td>2.5</td>\n",
       "      <td>2.9</td>\n",
       "      <td>3.7</td>\n",
       "      <td>4.1</td>\n",
       "      <td>1.8</td>\n",
       "      <td>4.1</td>\n",
       "    </tr>\n",
       "    <tr>\n",
       "      <th>user12</th>\n",
       "      <td>4.2</td>\n",
       "      <td>4.1</td>\n",
       "      <td>2.3</td>\n",
       "      <td>3.2</td>\n",
       "      <td>5.0</td>\n",
       "      <td>1.7</td>\n",
       "    </tr>\n",
       "  </tbody>\n",
       "</table>\n",
       "</div>"
      ],
      "text/plain": [
       "Fruit   Banana  Lemon  Lime  Mango  Peach  Pineapple\n",
       "User                                                \n",
       "user0      1.1    4.3   4.7    1.0    2.4        4.9\n",
       "user1      1.2    4.6   4.5    1.3    2.1        4.8\n",
       "user10     4.8    3.7   4.1    2.2    3.3        2.4\n",
       "user11     2.5    2.9   3.7    4.1    1.8        4.1\n",
       "user12     4.2    4.1   2.3    3.2    5.0        1.7"
      ]
     },
     "execution_count": 72,
     "metadata": {},
     "output_type": "execute_result"
    }
   ],
   "source": [
    "#replace missing valuewith the mean\n",
    "x=fruit_rating_pivot.fillna(fruit_rating_pivot['Lime'].mean()).round(1)\n",
    "x.head()"
   ]
  },
  {
   "cell_type": "markdown",
   "id": "adac1493-0939-4409-ba1c-e64f58e81835",
   "metadata": {},
   "source": [
    "## Truncated SVD"
   ]
  },
  {
   "cell_type": "code",
   "execution_count": 33,
   "id": "8ca166b8-bbb9-44eb-ab16-733a78b37f31",
   "metadata": {},
   "outputs": [
    {
     "data": {
      "text/html": [
       "<style>#sk-container-id-1 {color: black;background-color: white;}#sk-container-id-1 pre{padding: 0;}#sk-container-id-1 div.sk-toggleable {background-color: white;}#sk-container-id-1 label.sk-toggleable__label {cursor: pointer;display: block;width: 100%;margin-bottom: 0;padding: 0.3em;box-sizing: border-box;text-align: center;}#sk-container-id-1 label.sk-toggleable__label-arrow:before {content: \"▸\";float: left;margin-right: 0.25em;color: #696969;}#sk-container-id-1 label.sk-toggleable__label-arrow:hover:before {color: black;}#sk-container-id-1 div.sk-estimator:hover label.sk-toggleable__label-arrow:before {color: black;}#sk-container-id-1 div.sk-toggleable__content {max-height: 0;max-width: 0;overflow: hidden;text-align: left;background-color: #f0f8ff;}#sk-container-id-1 div.sk-toggleable__content pre {margin: 0.2em;color: black;border-radius: 0.25em;background-color: #f0f8ff;}#sk-container-id-1 input.sk-toggleable__control:checked~div.sk-toggleable__content {max-height: 200px;max-width: 100%;overflow: auto;}#sk-container-id-1 input.sk-toggleable__control:checked~label.sk-toggleable__label-arrow:before {content: \"▾\";}#sk-container-id-1 div.sk-estimator input.sk-toggleable__control:checked~label.sk-toggleable__label {background-color: #d4ebff;}#sk-container-id-1 div.sk-label input.sk-toggleable__control:checked~label.sk-toggleable__label {background-color: #d4ebff;}#sk-container-id-1 input.sk-hidden--visually {border: 0;clip: rect(1px 1px 1px 1px);clip: rect(1px, 1px, 1px, 1px);height: 1px;margin: -1px;overflow: hidden;padding: 0;position: absolute;width: 1px;}#sk-container-id-1 div.sk-estimator {font-family: monospace;background-color: #f0f8ff;border: 1px dotted black;border-radius: 0.25em;box-sizing: border-box;margin-bottom: 0.5em;}#sk-container-id-1 div.sk-estimator:hover {background-color: #d4ebff;}#sk-container-id-1 div.sk-parallel-item::after {content: \"\";width: 100%;border-bottom: 1px solid gray;flex-grow: 1;}#sk-container-id-1 div.sk-label:hover label.sk-toggleable__label {background-color: #d4ebff;}#sk-container-id-1 div.sk-serial::before {content: \"\";position: absolute;border-left: 1px solid gray;box-sizing: border-box;top: 0;bottom: 0;left: 50%;z-index: 0;}#sk-container-id-1 div.sk-serial {display: flex;flex-direction: column;align-items: center;background-color: white;padding-right: 0.2em;padding-left: 0.2em;position: relative;}#sk-container-id-1 div.sk-item {position: relative;z-index: 1;}#sk-container-id-1 div.sk-parallel {display: flex;align-items: stretch;justify-content: center;background-color: white;position: relative;}#sk-container-id-1 div.sk-item::before, #sk-container-id-1 div.sk-parallel-item::before {content: \"\";position: absolute;border-left: 1px solid gray;box-sizing: border-box;top: 0;bottom: 0;left: 50%;z-index: -1;}#sk-container-id-1 div.sk-parallel-item {display: flex;flex-direction: column;z-index: 1;position: relative;background-color: white;}#sk-container-id-1 div.sk-parallel-item:first-child::after {align-self: flex-end;width: 50%;}#sk-container-id-1 div.sk-parallel-item:last-child::after {align-self: flex-start;width: 50%;}#sk-container-id-1 div.sk-parallel-item:only-child::after {width: 0;}#sk-container-id-1 div.sk-dashed-wrapped {border: 1px dashed gray;margin: 0 0.4em 0.5em 0.4em;box-sizing: border-box;padding-bottom: 0.4em;background-color: white;}#sk-container-id-1 div.sk-label label {font-family: monospace;font-weight: bold;display: inline-block;line-height: 1.2em;}#sk-container-id-1 div.sk-label-container {text-align: center;}#sk-container-id-1 div.sk-container {/* jupyter's `normalize.less` sets `[hidden] { display: none; }` but bootstrap.min.css set `[hidden] { display: none !important; }` so we also need the `!important` here to be able to override the default hidden behavior on the sphinx rendered scikit-learn.org. See: https://github.com/scikit-learn/scikit-learn/issues/21755 */display: inline-block !important;position: relative;}#sk-container-id-1 div.sk-text-repr-fallback {display: none;}</style><div id=\"sk-container-id-1\" class=\"sk-top-container\"><div class=\"sk-text-repr-fallback\"><pre>TruncatedSVD()</pre><b>In a Jupyter environment, please rerun this cell to show the HTML representation or trust the notebook. <br />On GitHub, the HTML representation is unable to render, please try loading this page with nbviewer.org.</b></div><div class=\"sk-container\" hidden><div class=\"sk-item\"><div class=\"sk-estimator sk-toggleable\"><input class=\"sk-toggleable__control sk-hidden--visually\" id=\"sk-estimator-id-1\" type=\"checkbox\" checked><label for=\"sk-estimator-id-1\" class=\"sk-toggleable__label sk-toggleable__label-arrow\">TruncatedSVD</label><div class=\"sk-toggleable__content\"><pre>TruncatedSVD()</pre></div></div></div></div></div>"
      ],
      "text/plain": [
       "TruncatedSVD()"
      ]
     },
     "execution_count": 33,
     "metadata": {},
     "output_type": "execute_result"
    }
   ],
   "source": [
    "from sklearn.decomposition import TruncatedSVD\n",
    "svd = TruncatedSVD(n_components= 2)\n",
    "svd.fit(x)"
   ]
  },
  {
   "cell_type": "code",
   "execution_count": 36,
   "id": "5b051383-feb3-4110-9096-78db7ed1c5cd",
   "metadata": {},
   "outputs": [
    {
     "data": {
      "text/html": [
       "<div>\n",
       "<style scoped>\n",
       "    .dataframe tbody tr th:only-of-type {\n",
       "        vertical-align: middle;\n",
       "    }\n",
       "\n",
       "    .dataframe tbody tr th {\n",
       "        vertical-align: top;\n",
       "    }\n",
       "\n",
       "    .dataframe thead th {\n",
       "        text-align: right;\n",
       "    }\n",
       "</style>\n",
       "<table border=\"1\" class=\"dataframe\">\n",
       "  <thead>\n",
       "    <tr style=\"text-align: right;\">\n",
       "      <th></th>\n",
       "      <th>0</th>\n",
       "      <th>1</th>\n",
       "    </tr>\n",
       "  </thead>\n",
       "  <tbody>\n",
       "    <tr>\n",
       "      <th>0</th>\n",
       "      <td>7.472373</td>\n",
       "      <td>4.064985</td>\n",
       "    </tr>\n",
       "    <tr>\n",
       "      <th>1</th>\n",
       "      <td>7.490155</td>\n",
       "      <td>3.974586</td>\n",
       "    </tr>\n",
       "    <tr>\n",
       "      <th>2</th>\n",
       "      <td>8.330473</td>\n",
       "      <td>0.160338</td>\n",
       "    </tr>\n",
       "    <tr>\n",
       "      <th>3</th>\n",
       "      <td>7.724861</td>\n",
       "      <td>0.928411</td>\n",
       "    </tr>\n",
       "    <tr>\n",
       "      <th>4</th>\n",
       "      <td>8.367204</td>\n",
       "      <td>-1.394362</td>\n",
       "    </tr>\n",
       "  </tbody>\n",
       "</table>\n",
       "</div>"
      ],
      "text/plain": [
       "          0         1\n",
       "0  7.472373  4.064985\n",
       "1  7.490155  3.974586\n",
       "2  8.330473  0.160338\n",
       "3  7.724861  0.928411\n",
       "4  8.367204 -1.394362"
      ]
     },
     "execution_count": 36,
     "metadata": {},
     "output_type": "execute_result"
    }
   ],
   "source": [
    "# U (user x latent features)\n",
    "U = svd.transform(x)\n",
    "U_df=pd.DataFrame(U)\n",
    "U_df.head()"
   ]
  },
  {
   "cell_type": "code",
   "execution_count": 37,
   "id": "de9cf71d-2c41-4a81-8c41-46dc08506225",
   "metadata": {},
   "outputs": [
    {
     "data": {
      "text/plain": [
       "(30, 2)"
      ]
     },
     "execution_count": 37,
     "metadata": {},
     "output_type": "execute_result"
    }
   ],
   "source": [
    "U_df.shape"
   ]
  },
  {
   "cell_type": "code",
   "execution_count": 40,
   "id": "c640abc1-9ffa-4025-83c2-a620ec9a85c9",
   "metadata": {},
   "outputs": [
    {
     "data": {
      "text/plain": [
       "array([42.36626195, 17.65275125])"
      ]
     },
     "execution_count": 40,
     "metadata": {},
     "output_type": "execute_result"
    }
   ],
   "source": [
    "# sigma\n",
    "sigma=svd.singular_values_\n",
    "sigma"
   ]
  },
  {
   "cell_type": "code",
   "execution_count": 41,
   "id": "c9e177d3-e305-4c0f-a39d-90833bdbfd7e",
   "metadata": {},
   "outputs": [
    {
     "data": {
      "text/plain": [
       "array([[ 0.42292291,  0.37641215,  0.37791833,  0.38205078,  0.44036177,  0.44356122],\n",
       "       [-0.46829493,  0.4193202 ,  0.46772463, -0.42655355, -0.28946527,  0.34693808]])"
      ]
     },
     "execution_count": 41,
     "metadata": {},
     "output_type": "execute_result"
    }
   ],
   "source": [
    "#V-transpose\n",
    "Vt =svd.components_\n",
    "Vt"
   ]
  },
  {
   "cell_type": "code",
   "execution_count": 42,
   "id": "5fb1abf8-8c43-4649-bbb6-d2653537d42f",
   "metadata": {},
   "outputs": [
    {
     "data": {
      "text/html": [
       "<div>\n",
       "<style scoped>\n",
       "    .dataframe tbody tr th:only-of-type {\n",
       "        vertical-align: middle;\n",
       "    }\n",
       "\n",
       "    .dataframe tbody tr th {\n",
       "        vertical-align: top;\n",
       "    }\n",
       "\n",
       "    .dataframe thead th {\n",
       "        text-align: right;\n",
       "    }\n",
       "</style>\n",
       "<table border=\"1\" class=\"dataframe\">\n",
       "  <thead>\n",
       "    <tr style=\"text-align: right;\">\n",
       "      <th>Fruit</th>\n",
       "      <th>Banana</th>\n",
       "      <th>Lemon</th>\n",
       "      <th>Lime</th>\n",
       "      <th>Mango</th>\n",
       "      <th>Peach</th>\n",
       "      <th>Pineapple</th>\n",
       "    </tr>\n",
       "  </thead>\n",
       "  <tbody>\n",
       "    <tr>\n",
       "      <th>0</th>\n",
       "      <td>0.422923</td>\n",
       "      <td>0.376412</td>\n",
       "      <td>0.377918</td>\n",
       "      <td>0.382051</td>\n",
       "      <td>0.440362</td>\n",
       "      <td>0.443561</td>\n",
       "    </tr>\n",
       "    <tr>\n",
       "      <th>1</th>\n",
       "      <td>-0.468295</td>\n",
       "      <td>0.419320</td>\n",
       "      <td>0.467725</td>\n",
       "      <td>-0.426554</td>\n",
       "      <td>-0.289465</td>\n",
       "      <td>0.346938</td>\n",
       "    </tr>\n",
       "  </tbody>\n",
       "</table>\n",
       "</div>"
      ],
      "text/plain": [
       "Fruit    Banana     Lemon      Lime     Mango     Peach  Pineapple\n",
       "0      0.422923  0.376412  0.377918  0.382051  0.440362   0.443561\n",
       "1     -0.468295  0.419320  0.467725 -0.426554 -0.289465   0.346938"
      ]
     },
     "execution_count": 42,
     "metadata": {},
     "output_type": "execute_result"
    }
   ],
   "source": [
    "Vt_df=pd.DataFrame(Vt, columns=x.columns)\n",
    "Vt_df"
   ]
  },
  {
   "cell_type": "markdown",
   "id": "0aaa0641-071b-4a02-91c3-6f07073bb96a",
   "metadata": {},
   "source": [
    "## choosing the number of components"
   ]
  },
  {
   "cell_type": "code",
   "execution_count": 43,
   "id": "b4579dcb-12b2-4fa6-9a7f-22129de78404",
   "metadata": {},
   "outputs": [
    {
     "data": {
      "text/html": [
       "<div>\n",
       "<style scoped>\n",
       "    .dataframe tbody tr th:only-of-type {\n",
       "        vertical-align: middle;\n",
       "    }\n",
       "\n",
       "    .dataframe tbody tr th {\n",
       "        vertical-align: top;\n",
       "    }\n",
       "\n",
       "    .dataframe thead th {\n",
       "        text-align: right;\n",
       "    }\n",
       "</style>\n",
       "<table border=\"1\" class=\"dataframe\">\n",
       "  <thead>\n",
       "    <tr style=\"text-align: right;\">\n",
       "      <th>Fruit</th>\n",
       "      <th>Banana</th>\n",
       "      <th>Lemon</th>\n",
       "      <th>Lime</th>\n",
       "      <th>Mango</th>\n",
       "      <th>Peach</th>\n",
       "      <th>Pineapple</th>\n",
       "    </tr>\n",
       "    <tr>\n",
       "      <th>User</th>\n",
       "      <th></th>\n",
       "      <th></th>\n",
       "      <th></th>\n",
       "      <th></th>\n",
       "      <th></th>\n",
       "      <th></th>\n",
       "    </tr>\n",
       "  </thead>\n",
       "  <tbody>\n",
       "    <tr>\n",
       "      <th>user0</th>\n",
       "      <td>1.1</td>\n",
       "      <td>4.3</td>\n",
       "      <td>4.7</td>\n",
       "      <td>1.0</td>\n",
       "      <td>2.4</td>\n",
       "      <td>4.9</td>\n",
       "    </tr>\n",
       "    <tr>\n",
       "      <th>user1</th>\n",
       "      <td>1.2</td>\n",
       "      <td>4.6</td>\n",
       "      <td>4.5</td>\n",
       "      <td>1.3</td>\n",
       "      <td>2.1</td>\n",
       "      <td>4.8</td>\n",
       "    </tr>\n",
       "    <tr>\n",
       "      <th>user10</th>\n",
       "      <td>4.8</td>\n",
       "      <td>3.7</td>\n",
       "      <td>4.1</td>\n",
       "      <td>2.2</td>\n",
       "      <td>3.3</td>\n",
       "      <td>2.4</td>\n",
       "    </tr>\n",
       "    <tr>\n",
       "      <th>user11</th>\n",
       "      <td>2.5</td>\n",
       "      <td>2.9</td>\n",
       "      <td>3.7</td>\n",
       "      <td>4.1</td>\n",
       "      <td>1.8</td>\n",
       "      <td>4.1</td>\n",
       "    </tr>\n",
       "    <tr>\n",
       "      <th>user12</th>\n",
       "      <td>4.2</td>\n",
       "      <td>4.1</td>\n",
       "      <td>2.3</td>\n",
       "      <td>3.2</td>\n",
       "      <td>5.0</td>\n",
       "      <td>1.7</td>\n",
       "    </tr>\n",
       "  </tbody>\n",
       "</table>\n",
       "</div>"
      ],
      "text/plain": [
       "Fruit   Banana  Lemon  Lime  Mango  Peach  Pineapple\n",
       "User                                                \n",
       "user0      1.1    4.3   4.7    1.0    2.4        4.9\n",
       "user1      1.2    4.6   4.5    1.3    2.1        4.8\n",
       "user10     4.8    3.7   4.1    2.2    3.3        2.4\n",
       "user11     2.5    2.9   3.7    4.1    1.8        4.1\n",
       "user12     4.2    4.1   2.3    3.2    5.0        1.7"
      ]
     },
     "execution_count": 43,
     "metadata": {},
     "output_type": "execute_result"
    }
   ],
   "source": [
    "# start by choosing the  number of the columns in the user-item matrix, here, it is 6\n",
    "\n",
    "x.head()"
   ]
  },
  {
   "cell_type": "code",
   "execution_count": 44,
   "id": "c6382bc6-c0be-4459-9af0-9e4e4d5c49c3",
   "metadata": {},
   "outputs": [
    {
     "data": {
      "text/html": [
       "<style>#sk-container-id-2 {color: black;background-color: white;}#sk-container-id-2 pre{padding: 0;}#sk-container-id-2 div.sk-toggleable {background-color: white;}#sk-container-id-2 label.sk-toggleable__label {cursor: pointer;display: block;width: 100%;margin-bottom: 0;padding: 0.3em;box-sizing: border-box;text-align: center;}#sk-container-id-2 label.sk-toggleable__label-arrow:before {content: \"▸\";float: left;margin-right: 0.25em;color: #696969;}#sk-container-id-2 label.sk-toggleable__label-arrow:hover:before {color: black;}#sk-container-id-2 div.sk-estimator:hover label.sk-toggleable__label-arrow:before {color: black;}#sk-container-id-2 div.sk-toggleable__content {max-height: 0;max-width: 0;overflow: hidden;text-align: left;background-color: #f0f8ff;}#sk-container-id-2 div.sk-toggleable__content pre {margin: 0.2em;color: black;border-radius: 0.25em;background-color: #f0f8ff;}#sk-container-id-2 input.sk-toggleable__control:checked~div.sk-toggleable__content {max-height: 200px;max-width: 100%;overflow: auto;}#sk-container-id-2 input.sk-toggleable__control:checked~label.sk-toggleable__label-arrow:before {content: \"▾\";}#sk-container-id-2 div.sk-estimator input.sk-toggleable__control:checked~label.sk-toggleable__label {background-color: #d4ebff;}#sk-container-id-2 div.sk-label input.sk-toggleable__control:checked~label.sk-toggleable__label {background-color: #d4ebff;}#sk-container-id-2 input.sk-hidden--visually {border: 0;clip: rect(1px 1px 1px 1px);clip: rect(1px, 1px, 1px, 1px);height: 1px;margin: -1px;overflow: hidden;padding: 0;position: absolute;width: 1px;}#sk-container-id-2 div.sk-estimator {font-family: monospace;background-color: #f0f8ff;border: 1px dotted black;border-radius: 0.25em;box-sizing: border-box;margin-bottom: 0.5em;}#sk-container-id-2 div.sk-estimator:hover {background-color: #d4ebff;}#sk-container-id-2 div.sk-parallel-item::after {content: \"\";width: 100%;border-bottom: 1px solid gray;flex-grow: 1;}#sk-container-id-2 div.sk-label:hover label.sk-toggleable__label {background-color: #d4ebff;}#sk-container-id-2 div.sk-serial::before {content: \"\";position: absolute;border-left: 1px solid gray;box-sizing: border-box;top: 0;bottom: 0;left: 50%;z-index: 0;}#sk-container-id-2 div.sk-serial {display: flex;flex-direction: column;align-items: center;background-color: white;padding-right: 0.2em;padding-left: 0.2em;position: relative;}#sk-container-id-2 div.sk-item {position: relative;z-index: 1;}#sk-container-id-2 div.sk-parallel {display: flex;align-items: stretch;justify-content: center;background-color: white;position: relative;}#sk-container-id-2 div.sk-item::before, #sk-container-id-2 div.sk-parallel-item::before {content: \"\";position: absolute;border-left: 1px solid gray;box-sizing: border-box;top: 0;bottom: 0;left: 50%;z-index: -1;}#sk-container-id-2 div.sk-parallel-item {display: flex;flex-direction: column;z-index: 1;position: relative;background-color: white;}#sk-container-id-2 div.sk-parallel-item:first-child::after {align-self: flex-end;width: 50%;}#sk-container-id-2 div.sk-parallel-item:last-child::after {align-self: flex-start;width: 50%;}#sk-container-id-2 div.sk-parallel-item:only-child::after {width: 0;}#sk-container-id-2 div.sk-dashed-wrapped {border: 1px dashed gray;margin: 0 0.4em 0.5em 0.4em;box-sizing: border-box;padding-bottom: 0.4em;background-color: white;}#sk-container-id-2 div.sk-label label {font-family: monospace;font-weight: bold;display: inline-block;line-height: 1.2em;}#sk-container-id-2 div.sk-label-container {text-align: center;}#sk-container-id-2 div.sk-container {/* jupyter's `normalize.less` sets `[hidden] { display: none; }` but bootstrap.min.css set `[hidden] { display: none !important; }` so we also need the `!important` here to be able to override the default hidden behavior on the sphinx rendered scikit-learn.org. See: https://github.com/scikit-learn/scikit-learn/issues/21755 */display: inline-block !important;position: relative;}#sk-container-id-2 div.sk-text-repr-fallback {display: none;}</style><div id=\"sk-container-id-2\" class=\"sk-top-container\"><div class=\"sk-text-repr-fallback\"><pre>TruncatedSVD(n_components=6)</pre><b>In a Jupyter environment, please rerun this cell to show the HTML representation or trust the notebook. <br />On GitHub, the HTML representation is unable to render, please try loading this page with nbviewer.org.</b></div><div class=\"sk-container\" hidden><div class=\"sk-item\"><div class=\"sk-estimator sk-toggleable\"><input class=\"sk-toggleable__control sk-hidden--visually\" id=\"sk-estimator-id-2\" type=\"checkbox\" checked><label for=\"sk-estimator-id-2\" class=\"sk-toggleable__label sk-toggleable__label-arrow\">TruncatedSVD</label><div class=\"sk-toggleable__content\"><pre>TruncatedSVD(n_components=6)</pre></div></div></div></div></div>"
      ],
      "text/plain": [
       "TruncatedSVD(n_components=6)"
      ]
     },
     "execution_count": 44,
     "metadata": {},
     "output_type": "execute_result"
    }
   ],
   "source": [
    "# model with 6 components\n",
    "svd = TruncatedSVD(n_components= 6)\n",
    "svd.fit(x)"
   ]
  },
  {
   "cell_type": "code",
   "execution_count": 47,
   "id": "d778c046-873c-43b4-a288-010e899e577c",
   "metadata": {},
   "outputs": [
    {
     "data": {
      "text/html": [
       "<div>\n",
       "<style scoped>\n",
       "    .dataframe tbody tr th:only-of-type {\n",
       "        vertical-align: middle;\n",
       "    }\n",
       "\n",
       "    .dataframe tbody tr th {\n",
       "        vertical-align: top;\n",
       "    }\n",
       "\n",
       "    .dataframe thead th {\n",
       "        text-align: right;\n",
       "    }\n",
       "</style>\n",
       "<table border=\"1\" class=\"dataframe\">\n",
       "  <thead>\n",
       "    <tr style=\"text-align: right;\">\n",
       "      <th></th>\n",
       "      <th>0</th>\n",
       "      <th>1</th>\n",
       "      <th>2</th>\n",
       "      <th>3</th>\n",
       "      <th>4</th>\n",
       "      <th>5</th>\n",
       "    </tr>\n",
       "  </thead>\n",
       "  <tbody>\n",
       "    <tr>\n",
       "      <th>0</th>\n",
       "      <td>7.472373</td>\n",
       "      <td>4.064985</td>\n",
       "      <td>0.067986</td>\n",
       "      <td>-0.247908</td>\n",
       "      <td>-0.364744</td>\n",
       "      <td>0.020722</td>\n",
       "    </tr>\n",
       "    <tr>\n",
       "      <th>1</th>\n",
       "      <td>7.490155</td>\n",
       "      <td>3.974586</td>\n",
       "      <td>0.067844</td>\n",
       "      <td>-0.212386</td>\n",
       "      <td>0.198628</td>\n",
       "      <td>-0.032770</td>\n",
       "    </tr>\n",
       "    <tr>\n",
       "      <th>2</th>\n",
       "      <td>8.330473</td>\n",
       "      <td>0.160338</td>\n",
       "      <td>-1.444983</td>\n",
       "      <td>1.841298</td>\n",
       "      <td>0.035282</td>\n",
       "      <td>0.357659</td>\n",
       "    </tr>\n",
       "    <tr>\n",
       "      <th>3</th>\n",
       "      <td>7.724861</td>\n",
       "      <td>0.928411</td>\n",
       "      <td>1.781961</td>\n",
       "      <td>0.499368</td>\n",
       "      <td>0.997727</td>\n",
       "      <td>-0.504347</td>\n",
       "    </tr>\n",
       "    <tr>\n",
       "      <th>4</th>\n",
       "      <td>8.367204</td>\n",
       "      <td>-1.394362</td>\n",
       "      <td>-2.265261</td>\n",
       "      <td>-0.045282</td>\n",
       "      <td>0.287017</td>\n",
       "      <td>-0.836554</td>\n",
       "    </tr>\n",
       "  </tbody>\n",
       "</table>\n",
       "</div>"
      ],
      "text/plain": [
       "          0         1         2         3         4         5\n",
       "0  7.472373  4.064985  0.067986 -0.247908 -0.364744  0.020722\n",
       "1  7.490155  3.974586  0.067844 -0.212386  0.198628 -0.032770\n",
       "2  8.330473  0.160338 -1.444983  1.841298  0.035282  0.357659\n",
       "3  7.724861  0.928411  1.781961  0.499368  0.997727 -0.504347\n",
       "4  8.367204 -1.394362 -2.265261 -0.045282  0.287017 -0.836554"
      ]
     },
     "execution_count": 47,
     "metadata": {},
     "output_type": "execute_result"
    }
   ],
   "source": [
    "# U (user x latent features)\n",
    "U6 = svd.transform(x)\n",
    "U6_df=pd.DataFrame(U6)\n",
    "U6_df.head()"
   ]
  },
  {
   "cell_type": "code",
   "execution_count": 48,
   "id": "e1223082-8e00-43dd-9d98-a5da869bf2fd",
   "metadata": {},
   "outputs": [
    {
     "data": {
      "text/plain": [
       "(30, 6)"
      ]
     },
     "execution_count": 48,
     "metadata": {},
     "output_type": "execute_result"
    }
   ],
   "source": [
    "U6_df.shape"
   ]
  },
  {
   "cell_type": "code",
   "execution_count": 52,
   "id": "dd70605b-c272-4f1f-9288-a9e684523bf8",
   "metadata": {},
   "outputs": [
    {
     "data": {
      "text/plain": [
       "array([0.01099579, 0.83486812, 0.08033115, 0.04955458, 0.01468284, 0.00956752])"
      ]
     },
     "execution_count": 52,
     "metadata": {},
     "output_type": "execute_result"
    }
   ],
   "source": [
    "# explained_variance_ratio_\n",
    "EVR=svd.explained_variance_ratio_\n",
    "EVR"
   ]
  },
  {
   "cell_type": "code",
   "execution_count": 57,
   "id": "53b9a55e-c4b0-42c5-bc79-f0eaf449ae9d",
   "metadata": {},
   "outputs": [
    {
     "data": {
      "text/plain": [
       "array([0.01, 0.85, 0.93, 0.98, 0.99, 1.  ])"
      ]
     },
     "execution_count": 57,
     "metadata": {},
     "output_type": "execute_result"
    }
   ],
   "source": [
    "# cummulative sum of  explained_variance_ratio_\n",
    "import numpy as np\n",
    "EVR_cumsum = np.cumsum(EVR).round(2)\n",
    "EVR_cumsum"
   ]
  },
  {
   "cell_type": "markdown",
   "id": "ebf1ee18-c510-4bd2-a5b7-fbae805e812c",
   "metadata": {},
   "source": [
    "#### it captured about 80% of the data at component 2, hence choos n_components=2 "
   ]
  },
  {
   "cell_type": "code",
   "execution_count": 73,
   "id": "e99c807a-ef37-408f-806d-644b151128a2",
   "metadata": {},
   "outputs": [],
   "source": [
    "xf=pd.DataFrame(EVR_cumsum, index=range(1,7), columns=['cumsum'])"
   ]
  },
  {
   "cell_type": "code",
   "execution_count": 74,
   "id": "9770bbbd-7809-4ecb-832d-1b56576a8853",
   "metadata": {},
   "outputs": [
    {
     "data": {
      "text/plain": [
       "''"
      ]
     },
     "execution_count": 74,
     "metadata": {},
     "output_type": "execute_result"
    },
    {
     "data": {
      "image/png": "[encoded data removed]",
      "text/plain": [
       "<Figure size 640x480 with 1 Axes>"
      ]
     },
     "metadata": {},
     "output_type": "display_data"
    }
   ],
   "source": [
    "import matplotlib.pyplot as plt\n",
    "\n",
    "xf.plot(kind='line',\n",
    "      xlabel='number of components',\n",
    "      ylabel='explained_variance_ratio_cumsum',\n",
    "      title='number of components vrs cumulative sum of explained_variance_ratio_', legend=False)\n",
    ";"
   ]
  },
  {
   "cell_type": "markdown",
   "id": "361ad2ad-97b1-4fec-a776-a486134a40d4",
   "metadata": {},
   "source": [
    "## Making recommendation for a new user using collaborative filtering\n"
   ]
  },
  {
   "cell_type": "code",
   "execution_count": 76,
   "id": "121caf3c-f7cc-4975-a970-f83ad5b72064",
   "metadata": {},
   "outputs": [
    {
     "data": {
      "text/plain": [
       "array([[ 7.47237261,  4.06498458],\n",
       "       [ 7.49015546,  3.97458593],\n",
       "       [ 8.33047256,  0.16033823],\n",
       "       [ 7.72486071,  0.92841147],\n",
       "       [ 8.36720361, -1.39436221],\n",
       "       [ 8.0004788 , -2.57665811],\n",
       "       [ 8.58884622, -0.06876994],\n",
       "       [ 7.25479481, -1.22979599],\n",
       "       [ 6.93652643,  0.99069268],\n",
       "       [ 8.00145041,  0.66285815],\n",
       "       [ 8.23393943,  0.38062487],\n",
       "       [ 8.48395499,  0.53381006],\n",
       "       [ 7.50696104,  4.09498414],\n",
       "       [ 7.69995645, -3.91776147],\n",
       "       [ 7.72758605, -3.73229599],\n",
       "       [ 7.69858983, -3.7140955 ],\n",
       "       [ 7.73978839, -3.72968866],\n",
       "       [ 7.70496106, -3.725197  ],\n",
       "       [ 7.77786657, -3.8369615 ],\n",
       "       [ 7.93001967, -3.74198266],\n",
       "       [ 7.58753194, -3.64365461],\n",
       "       [ 7.63438201, -3.62617747],\n",
       "       [ 7.55390334, -3.48273317],\n",
       "       [ 7.55446325,  3.98854226],\n",
       "       [ 7.39566624,  4.02687791],\n",
       "       [ 7.54233048,  3.89264382],\n",
       "       [ 7.42117469,  3.97291149],\n",
       "       [ 7.57432481,  4.1433931 ],\n",
       "       [ 7.3463391 ,  4.01730528],\n",
       "       [ 7.50326533,  3.89646917]])"
      ]
     },
     "execution_count": 76,
     "metadata": {},
     "output_type": "execute_result"
    }
   ],
   "source": [
    "#step1: select and fit a model using the best component, which is 2\n",
    "svd2 = TruncatedSVD(n_components= 2)\n",
    "U=svd2.fit_transform(x)\n",
    "U"
   ]
  },
  {
   "cell_type": "code",
   "execution_count": 80,
   "id": "63a69a47-25e1-47bd-87d8-53102281a2f8",
   "metadata": {},
   "outputs": [
    {
     "data": {
      "text/plain": [
       "0.85"
      ]
     },
     "execution_count": 80,
     "metadata": {},
     "output_type": "execute_result"
    }
   ],
   "source": [
    "sum(svd2.explained_variance_ratio_).round(2)"
   ]
  },
  {
   "cell_type": "code",
   "execution_count": 81,
   "id": "e7dbbe63-0642-47af-9d76-85093f86a535",
   "metadata": {},
   "outputs": [
    {
     "data": {
      "text/plain": [
       "array([nan,  2., nan,  5., nan, nan])"
      ]
     },
     "execution_count": 81,
     "metadata": {},
     "output_type": "execute_result"
    }
   ],
   "source": [
    "#step2: introduce new_user\n",
    "new_user=np.array([np.NAN,2,np.NAN,5,np.NAN,np.NAN])\n",
    "new_user"
   ]
  },
  {
   "cell_type": "code",
   "execution_count": 83,
   "id": "d15ef70f-b251-4210-b890-e68e6dbe9947",
   "metadata": {},
   "outputs": [
    {
     "data": {
      "text/html": [
       "<div>\n",
       "<style scoped>\n",
       "    .dataframe tbody tr th:only-of-type {\n",
       "        vertical-align: middle;\n",
       "    }\n",
       "\n",
       "    .dataframe tbody tr th {\n",
       "        vertical-align: top;\n",
       "    }\n",
       "\n",
       "    .dataframe thead th {\n",
       "        text-align: right;\n",
       "    }\n",
       "</style>\n",
       "<table border=\"1\" class=\"dataframe\">\n",
       "  <thead>\n",
       "    <tr style=\"text-align: right;\">\n",
       "      <th>Fruit</th>\n",
       "      <th>Banana</th>\n",
       "      <th>Lemon</th>\n",
       "      <th>Lime</th>\n",
       "      <th>Mango</th>\n",
       "      <th>Peach</th>\n",
       "      <th>Pineapple</th>\n",
       "    </tr>\n",
       "  </thead>\n",
       "  <tbody>\n",
       "    <tr>\n",
       "      <th>0</th>\n",
       "      <td>NaN</td>\n",
       "      <td>2.0</td>\n",
       "      <td>NaN</td>\n",
       "      <td>5.0</td>\n",
       "      <td>NaN</td>\n",
       "      <td>NaN</td>\n",
       "    </tr>\n",
       "  </tbody>\n",
       "</table>\n",
       "</div>"
      ],
      "text/plain": [
       "Fruit  Banana  Lemon  Lime  Mango  Peach  Pineapple\n",
       "0         NaN    2.0   NaN    5.0    NaN        NaN"
      ]
     },
     "execution_count": 83,
     "metadata": {},
     "output_type": "execute_result"
    }
   ],
   "source": [
    "#new_user dataframe\n",
    "new_user_df= pd.DataFrame([new_user],columns=x.columns)\n",
    "new_user_df"
   ]
  },
  {
   "cell_type": "code",
   "execution_count": 89,
   "id": "ace338ed-93d2-439d-a8fd-8b776b33241d",
   "metadata": {},
   "outputs": [
    {
     "data": {
      "text/plain": [
       "array([[ 7.61279931, -1.1269517 ]])"
      ]
     },
     "execution_count": 89,
     "metadata": {},
     "output_type": "execute_result"
    }
   ],
   "source": [
    "new_user_2d=svd2.transform(new_user_df.fillna(fruit_rating_pivot['Lime'].mean()))\n",
    "new_user_2d"
   ]
  },
  {
   "cell_type": "code",
   "execution_count": 92,
   "id": "080dc78a-5025-44d1-b9ef-9d813ea41fe9",
   "metadata": {},
   "outputs": [
    {
     "data": {
      "text/plain": [
       "(1, 2)"
      ]
     },
     "execution_count": 92,
     "metadata": {},
     "output_type": "execute_result"
    }
   ],
   "source": [
    "new_user_2d.shape"
   ]
  },
  {
   "cell_type": "code",
   "execution_count": 94,
   "id": "e8bae703-7cba-49b1-98f8-f672b27a9407",
   "metadata": {},
   "outputs": [
    {
     "data": {
      "text/plain": [
       "array([[ 0.42292291,  0.37641215,  0.37791833,  0.38205078,  0.44036177,  0.44356122],\n",
       "       [-0.46829493,  0.4193202 ,  0.46772463, -0.42655355, -0.28946527,  0.34693808]])"
      ]
     },
     "execution_count": 94,
     "metadata": {},
     "output_type": "execute_result"
    }
   ],
   "source": [
    "# step3 : model recommendation\n",
    "VT=svd2.components_\n",
    "VT"
   ]
  },
  {
   "cell_type": "code",
   "execution_count": 90,
   "id": "9d9a980e-cc2b-4f89-a5cb-8e000627e6eb",
   "metadata": {},
   "outputs": [
    {
     "data": {
      "text/plain": [
       "(2, 6)"
      ]
     },
     "execution_count": 90,
     "metadata": {},
     "output_type": "execute_result"
    }
   ],
   "source": [
    "VT.shape"
   ]
  },
  {
   "cell_type": "code",
   "execution_count": 97,
   "id": "fa5f3948-af68-43b7-9883-8bd42eb33349",
   "metadata": {},
   "outputs": [
    {
     "data": {
      "text/plain": [
       "array([[3.747373  , 2.39299654, 2.34991338, 3.38918113, 3.67859915, 2.98576008]])"
      ]
     },
     "execution_count": 97,
     "metadata": {},
     "output_type": "execute_result"
    }
   ],
   "source": [
    "new_user_recs=np.dot(new_user_2d,VT)\n",
    "new_user_recs"
   ]
  },
  {
   "cell_type": "code",
   "execution_count": 114,
   "id": "f06ffca0-bd35-47ad-84ac-b9c894b11adc",
   "metadata": {},
   "outputs": [
    {
     "data": {
      "text/html": [
       "<div>\n",
       "<style scoped>\n",
       "    .dataframe tbody tr th:only-of-type {\n",
       "        vertical-align: middle;\n",
       "    }\n",
       "\n",
       "    .dataframe tbody tr th {\n",
       "        vertical-align: top;\n",
       "    }\n",
       "\n",
       "    .dataframe thead th {\n",
       "        text-align: right;\n",
       "    }\n",
       "</style>\n",
       "<table border=\"1\" class=\"dataframe\">\n",
       "  <thead>\n",
       "    <tr style=\"text-align: right;\">\n",
       "      <th></th>\n",
       "      <th>Recommendations</th>\n",
       "    </tr>\n",
       "  </thead>\n",
       "  <tbody>\n",
       "    <tr>\n",
       "      <th>Banana</th>\n",
       "      <td>3.747373</td>\n",
       "    </tr>\n",
       "    <tr>\n",
       "      <th>Peach</th>\n",
       "      <td>3.678599</td>\n",
       "    </tr>\n",
       "    <tr>\n",
       "      <th>Mango</th>\n",
       "      <td>3.389181</td>\n",
       "    </tr>\n",
       "    <tr>\n",
       "      <th>Pineapple</th>\n",
       "      <td>2.985760</td>\n",
       "    </tr>\n",
       "    <tr>\n",
       "      <th>Lemon</th>\n",
       "      <td>2.392997</td>\n",
       "    </tr>\n",
       "    <tr>\n",
       "      <th>Lime</th>\n",
       "      <td>2.349913</td>\n",
       "    </tr>\n",
       "  </tbody>\n",
       "</table>\n",
       "</div>"
      ],
      "text/plain": [
       "           Recommendations\n",
       "Banana            3.747373\n",
       "Peach             3.678599\n",
       "Mango             3.389181\n",
       "Pineapple         2.985760\n",
       "Lemon             2.392997\n",
       "Lime              2.349913"
      ]
     },
     "execution_count": 114,
     "metadata": {},
     "output_type": "execute_result"
    }
   ],
   "source": [
    "new_user_recs_df=pd.DataFrame(new_user_recs,columns=x.columns)\n",
    "new_user_recs_sort=new_user_recs_df.T.sort_values(by=0,ascending=False)\n",
    "new_user_recs_sort.index.name=None\n",
    "new_user_recs_sort.columns=['Recommendations']\n",
    "new_user_recs_sort"
   ]
  },
  {
   "cell_type": "code",
   "execution_count": 118,
   "id": "478c1163-6b40-4f69-95d7-944aecd21173",
   "metadata": {},
   "outputs": [
    {
     "data": {
      "text/plain": [
       "Index(['Lemon', 'Mango'], dtype='object', name='Fruit')"
      ]
     },
     "execution_count": 118,
     "metadata": {},
     "output_type": "execute_result"
    }
   ],
   "source": [
    "already_rated=new_user_df.T.dropna().index\n",
    "already_rated"
   ]
  },
  {
   "cell_type": "code",
   "execution_count": 117,
   "id": "424bb53c-5133-4af7-8e56-5f13c0b1c733",
   "metadata": {},
   "outputs": [
    {
     "data": {
      "text/html": [
       "<div>\n",
       "<style scoped>\n",
       "    .dataframe tbody tr th:only-of-type {\n",
       "        vertical-align: middle;\n",
       "    }\n",
       "\n",
       "    .dataframe tbody tr th {\n",
       "        vertical-align: top;\n",
       "    }\n",
       "\n",
       "    .dataframe thead th {\n",
       "        text-align: right;\n",
       "    }\n",
       "</style>\n",
       "<table border=\"1\" class=\"dataframe\">\n",
       "  <thead>\n",
       "    <tr style=\"text-align: right;\">\n",
       "      <th></th>\n",
       "      <th>Recommendations</th>\n",
       "    </tr>\n",
       "  </thead>\n",
       "  <tbody>\n",
       "    <tr>\n",
       "      <th>Banana</th>\n",
       "      <td>3.747373</td>\n",
       "    </tr>\n",
       "    <tr>\n",
       "      <th>Peach</th>\n",
       "      <td>3.678599</td>\n",
       "    </tr>\n",
       "    <tr>\n",
       "      <th>Pineapple</th>\n",
       "      <td>2.985760</td>\n",
       "    </tr>\n",
       "    <tr>\n",
       "      <th>Lime</th>\n",
       "      <td>2.349913</td>\n",
       "    </tr>\n",
       "  </tbody>\n",
       "</table>\n",
       "</div>"
      ],
      "text/plain": [
       "           Recommendations\n",
       "Banana            3.747373\n",
       "Peach             3.678599\n",
       "Pineapple         2.985760\n",
       "Lime              2.349913"
      ]
     },
     "execution_count": 117,
     "metadata": {},
     "output_type": "execute_result"
    }
   ],
   "source": [
    "new_user_recs_sort[~new_user_recs_sort.index.isin(already_rated)]"
   ]
  },
  {
   "cell_type": "code",
   "execution_count": null,
   "id": "757e9a16-ed6b-456f-8e0f-9b689a988b37",
   "metadata": {},
   "outputs": [],
   "source": []
  }
 ],
 "metadata": {
  "kernelspec": {
   "display_name": "Python 3 (ipykernel)",
   "language": "python",
   "name": "python3"
  },
  "language_info": {
   "codemirror_mode": {
    "name": "ipython",
    "version": 3
   },
   "file_extension": ".py",
   "mimetype": "text/x-python",
   "name": "python",
   "nbconvert_exporter": "python",
   "pygments_lexer": "ipython3",
   "version": "3.11.7"
  }
 },
 "nbformat": 4,
 "nbformat_minor": 5
}
